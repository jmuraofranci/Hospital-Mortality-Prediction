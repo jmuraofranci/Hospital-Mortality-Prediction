{
  "nbformat": 4,
  "nbformat_minor": 0,
  "metadata": {
    "colab": {
      "provenance": [],
      "collapsed_sections": [
        "TDeGVtfrNzxo",
        "d433a15f",
        "47bf2cde"
      ]
    },
    "kernelspec": {
      "name": "python3",
      "display_name": "Python 3"
    },
    "language_info": {
      "name": "python"
    }
  },
  "cells": [
    {
      "cell_type": "markdown",
      "source": [
        "# Part 2. Prediction Task:\n",
        "### Develop models to predict hospitalization mortality and visualize the results.\n"
      ],
      "metadata": {
        "id": "xV_Y8fXTMaBd"
      }
    },
    {
      "cell_type": "markdown",
      "source": [
        "#### Mount to drive, import libraries and load datasets."
      ],
      "metadata": {
        "id": "TDeGVtfrNzxo"
      }
    },
    {
      "cell_type": "code",
      "execution_count": 1,
      "metadata": {
        "colab": {
          "base_uri": "https://localhost:8080/"
        },
        "id": "utSffiJutHcv",
        "outputId": "16aba0c4-807b-4bfd-84bd-ce5f4a22f169"
      },
      "outputs": [
        {
          "output_type": "stream",
          "name": "stdout",
          "text": [
            "Mounted at /content/drive\n"
          ]
        }
      ],
      "source": [
        "#Mount to drive\n",
        "from google.colab import drive\n",
        "drive.mount('/content/drive')"
      ]
    },
    {
      "cell_type": "code",
      "source": [
        "#Import libraries\n",
        "import numpy as np\n",
        "import pandas as pd\n",
        "import matplotlib.pyplot as plt"
      ],
      "metadata": {
        "id": "PWlBoQKdtQ09"
      },
      "execution_count": 2,
      "outputs": []
    },
    {
      "cell_type": "code",
      "source": [
        "#Function to load datasets\n",
        "def load_data():\n",
        "    \"\"\"Load data from CSV files and filter to smallest 1000 unique subject_ids with verification.\"\"\"\n",
        "\n",
        "    file_paths = {\n",
        "        \"Patient Feature Matrix\": \"/content/drive/MyDrive/technicaltaskdata/patient_feature_matrix.csv\",\n",
        "        \"Feature Descriptions\": \"/content/drive/MyDrive/technicaltaskdata/feature_descriptions.csv\",\n",
        "        \"Cohort\": \"/content/drive/MyDrive/technicaltaskdata/cohort.csv\"\n",
        "    }\n",
        "\n",
        "    patient_features = pd.read_csv(file_paths[\"Patient Feature Matrix\"])\n",
        "    feature_descriptions = pd.read_csv(file_paths[\"Feature Descriptions\"])\n",
        "    cohort = pd.read_csv(file_paths[\"Cohort\"])\n",
        "\n",
        "\n",
        "    return patient_features, feature_descriptions, cohort\n",
        "\n",
        "patient_features, feature_descriptions, cohort = load_data()\n",
        "\n"
      ],
      "metadata": {
        "id": "hCW__VcItSt2"
      },
      "execution_count": 3,
      "outputs": []
    },
    {
      "cell_type": "code",
      "source": [
        "#Look through datasets\n",
        "load_data()"
      ],
      "metadata": {
        "colab": {
          "base_uri": "https://localhost:8080/"
        },
        "collapsed": true,
        "id": "CfhW8tz5wKOH",
        "outputId": "17df9f0c-6b3d-48f8-9626-399eaf496775"
      },
      "execution_count": 4,
      "outputs": [
        {
          "output_type": "execute_result",
          "data": {
            "text/plain": [
              "(      subject_id death_in_stay  oxy_drop gender   age_in_days  \\\n",
              " 0             91          died    stable      F  29809.000000   \n",
              " 1            106          died  oxy_drop      M  10358.333333   \n",
              " 2            111      survived  oxy_drop      F  24388.979167   \n",
              " 3            117          died  oxy_drop      F  18224.075000   \n",
              " 4              3      survived  oxy_drop      M  27951.375000   \n",
              " ...          ...           ...       ...    ...           ...   \n",
              " 3450       31983      survived  oxy_drop      M  30843.500000   \n",
              " 3451       32506      survived    stable      F  23776.625000   \n",
              " 3452       32513      survived    stable      F  28793.458333   \n",
              " 3453       32408      survived    stable      M  19813.375000   \n",
              " 3454       32417      survived    stable      M  20063.104167   \n",
              " \n",
              "       icd9_ ADENOID CYSTIC CARCINOMA/SDA  icd9_ INTRACTABLE EPILEPSY/SDA  \\\n",
              " 0                                      0                               0   \n",
              " 1                                      0                               0   \n",
              " 2                                      0                               0   \n",
              " 3                                      0                               0   \n",
              " 4                                      0                               0   \n",
              " ...                                  ...                             ...   \n",
              " 3450                                   0                               0   \n",
              " 3451                                   0                               0   \n",
              " 3452                                   0                               0   \n",
              " 3453                                   0                               0   \n",
              " 3454                                   0                               0   \n",
              " \n",
              "       icd9_?AORTIC DISSECTION  icd9_?TIA;IV HEPARIN  icd9_+ETT\\CATH  ...  \\\n",
              " 0                           0                     0               0  ...   \n",
              " 1                           0                     0               0  ...   \n",
              " 2                           0                     0               0  ...   \n",
              " 3                           0                     0               0  ...   \n",
              " 4                           0                     0               0  ...   \n",
              " ...                       ...                   ...             ...  ...   \n",
              " 3450                        0                     0               0  ...   \n",
              " 3451                        0                     0               0  ...   \n",
              " 3452                        0                     0               0  ...   \n",
              " 3453                        0                     0               0  ...   \n",
              " 3454                        0                     0               0  ...   \n",
              " \n",
              "       chartvalue_815  chartvalue_821  chartvalue_824  chartvalue_825  \\\n",
              " 0            1.50000        1.700000       14.800000       42.400000   \n",
              " 1            1.40027        2.600000       14.755973       35.507768   \n",
              " 2            1.40027        2.012763       12.200000       53.500000   \n",
              " 3            1.90000        2.300000       17.200000       40.100000   \n",
              " 4            1.50000        2.300000       14.400000       36.200000   \n",
              " ...              ...             ...             ...             ...   \n",
              " 3450         1.20000        1.900000       13.600000       84.700000   \n",
              " 3451         1.00000        2.500000       12.300000       22.300000   \n",
              " 3452         1.40027        1.800000       14.755973       35.507768   \n",
              " 3453         1.40027        2.700000       14.755973       35.507768   \n",
              " 3454         1.30000        2.000000       14.500000       43.100000   \n",
              " \n",
              "       chartvalue_828  chartvalue_829  chartvalue_833  chartvalue_837  \\\n",
              " 0          77.000000        3.900000        3.040000      144.000000   \n",
              " 1         226.000000        3.700000        5.600000      136.000000   \n",
              " 2         208.493109        4.101856        3.535677      139.220795   \n",
              " 3          42.000000        5.000000        2.310000      136.000000   \n",
              " 4         359.000000        4.400000        3.300000      138.000000   \n",
              " ...              ...             ...             ...             ...   \n",
              " 3450      184.000000        4.000000        3.540000      149.000000   \n",
              " 3451      190.000000        3.700000        3.530000      139.000000   \n",
              " 3452      214.000000        4.800000        3.870000      142.000000   \n",
              " 3453      163.000000        3.600000        4.090000      138.000000   \n",
              " 3454      202.000000        4.600000        3.290000      138.000000   \n",
              " \n",
              "       chartvalue_861  chartvalue_87  \n",
              " 0            6.50000           15.0  \n",
              " 1           26.00000           11.0  \n",
              " 2           12.65352           13.0  \n",
              " 3            7.00000           11.0  \n",
              " 4           24.40000           11.0  \n",
              " ...              ...            ...  \n",
              " 3450         6.00000           16.0  \n",
              " 3451        14.80000           12.0  \n",
              " 3452        13.20000           16.0  \n",
              " 3453         6.30000           12.0  \n",
              " 3454        10.60000           13.0  \n",
              " \n",
              " [3455 rows x 2440 columns],\n",
              "                                  feature feature_type  \\\n",
              " 0     icd9_.ADENOID.CYSTIC.CARCINOMA.SDA         icd9   \n",
              " 1         icd9_.INTRACTABLE.EPILEPSY.SDA         icd9   \n",
              " 2                icd9_.AORTIC.DISSECTION         icd9   \n",
              " 3                   icd9_.TIA.IV.HEPARIN         icd9   \n",
              " 4                         icd9_.ETT.CATH         icd9   \n",
              " ...                                  ...          ...   \n",
              " 2433                            C3873618     note CUI   \n",
              " 2434                            C3874404     note CUI   \n",
              " 2435                              gender  demographic   \n",
              " 2436                         age_in_days  demographic   \n",
              " 2437                            oxy_drop   engineered   \n",
              " \n",
              "                                code  \\\n",
              " 0     .ADENOID.CYSTIC.CARCINOMA.SDA   \n",
              " 1         .INTRACTABLE.EPILEPSY.SDA   \n",
              " 2                .AORTIC.DISSECTION   \n",
              " 3                   .TIA.IV.HEPARIN   \n",
              " 4                         .ETT.CATH   \n",
              " ...                             ...   \n",
              " 2433                       C3873618   \n",
              " 2434                       C3874404   \n",
              " 2435                            NaN   \n",
              " 2436                            NaN   \n",
              " 2437                            NaN   \n",
              " \n",
              "                                             description  \n",
              " 0                         .ADENOID.CYSTIC.CARCINOMA.SDA  \n",
              " 1                             .INTRACTABLE.EPILEPSY.SDA  \n",
              " 2                                    .AORTIC.DISSECTION  \n",
              " 3                                       .TIA.IV.HEPARIN  \n",
              " 4                                             .ETT.CATH  \n",
              " ...                                                 ...  \n",
              " 2433                        complication of health care  \n",
              " 2434                                mass of nasal sinus  \n",
              " 2435                                             gender  \n",
              " 2436                                        age in days  \n",
              " 2437  sustained drop in oxygenation after stable ven...  \n",
              " \n",
              " [2438 rows x 4 columns],\n",
              "       subject_id  icustay_id death_in_stay            deathtime  \\\n",
              " 0             91      256972          died  2177-05-10 15:16:00   \n",
              " 1            106      252051          died  2192-08-15 21:15:00   \n",
              " 2            111      254245      survived                  NaN   \n",
              " 3            117      217966          died  2133-12-01 17:00:00   \n",
              " 4              3      211552      survived                  NaN   \n",
              " ...          ...         ...           ...                  ...   \n",
              " 3450       31983      276570      survived                  NaN   \n",
              " 3451       32506      207524      survived                  NaN   \n",
              " 3452       32513      293221      survived                  NaN   \n",
              " 3453       32408      202729      survived                  NaN   \n",
              " 3454       32417      223312      survived                  NaN   \n",
              " \n",
              "               censor_time           index_time        exposure_time  oxy_drop  \n",
              " 0     2177-05-10 15:16:00  2177-05-08 00:00:00                  NaN    stable  \n",
              " 1     2192-08-15 21:15:00  2192-08-10 08:00:00  2192-08-14 16:33:00  oxy_drop  \n",
              " 2     2142-05-05 11:45:00  2142-04-24 23:30:00  2142-04-25 18:32:00  oxy_drop  \n",
              " 3     2133-12-01 17:00:00  2133-11-20 01:48:00  2133-11-20 04:05:00  oxy_drop  \n",
              " 4     2101-10-31 13:58:00  2101-10-21 09:00:00  2101-10-21 09:46:00  oxy_drop  \n",
              " ...                   ...                  ...                  ...       ...  \n",
              " 3450  2197-07-10 17:00:00  2197-06-26 12:00:00  2197-06-27 14:07:00  oxy_drop  \n",
              " 3451  2114-03-14 13:08:00  2114-03-05 15:00:00                  NaN    stable  \n",
              " 3452  2129-01-17 15:25:00  2129-01-07 11:00:00                  NaN    stable  \n",
              " 3453  2113-08-12 11:08:00  2113-07-28 09:00:00                  NaN    stable  \n",
              " 3454  2151-06-03 15:00:00  2151-05-27 02:30:00                  NaN    stable  \n",
              " \n",
              " [3455 rows x 8 columns])"
            ]
          },
          "metadata": {},
          "execution_count": 4
        }
      ]
    },
    {
      "cell_type": "markdown",
      "metadata": {
        "id": "d433a15f"
      },
      "source": [
        "#### Prepare the data for modeling. Handle missing values. Encode categorical features.\n"
      ]
    },
    {
      "cell_type": "code",
      "metadata": {
        "colab": {
          "base_uri": "https://localhost:8080/"
        },
        "id": "111211b8",
        "outputId": "ebc99575-832f-4659-def3-312140e56f19"
      },
      "source": [
        "#Check for missing values\n",
        "print(\"Missing values before handling:\")\n",
        "print(patient_features.isnull().sum().sum())\n",
        "\n",
        "#Impute missing values with the mean for numerical columns\n",
        "for col in patient_features.columns:\n",
        "    if patient_features[col].dtype in ['int64', 'float64']:\n",
        "        patient_features[col] = patient_features[col].fillna(patient_features[col].mean())\n",
        "\n",
        "print(\"\\nMissing values after handling:\")\n",
        "print(patient_features.isnull().sum().sum())\n"
      ],
      "execution_count": 5,
      "outputs": [
        {
          "output_type": "stream",
          "name": "stdout",
          "text": [
            "Missing values before handling:\n",
            "0\n",
            "\n",
            "Missing values after handling:\n",
            "0\n"
          ]
        }
      ]
    },
    {
      "cell_type": "code",
      "source": [
        "#Identify categorical features in the patient_features DataFrame\n",
        "categorical_features = patient_features.select_dtypes(include=['object']).columns\n",
        "print(\"\\nCategorical features identified:\")\n",
        "print(categorical_features)\n"
      ],
      "metadata": {
        "colab": {
          "base_uri": "https://localhost:8080/"
        },
        "id": "uUSSj4QJwZOz",
        "outputId": "666f91c5-dcbe-46ac-8a4e-e265a40f22d5"
      },
      "execution_count": 6,
      "outputs": [
        {
          "output_type": "stream",
          "name": "stdout",
          "text": [
            "\n",
            "Categorical features identified:\n",
            "Index(['death_in_stay', 'oxy_drop', 'gender'], dtype='object')\n"
          ]
        }
      ]
    },
    {
      "cell_type": "code",
      "source": [
        "#Encode categorical features in patient_features DataFrame\n",
        "patient_features_encoded = pd.get_dummies(patient_features, columns=categorical_features, dummy_na=False)\n"
      ],
      "metadata": {
        "id": "A6RreVpLwhVk"
      },
      "execution_count": 7,
      "outputs": []
    },
    {
      "cell_type": "code",
      "source": [
        "#Merge the processed patient_features DataFrame with the cohort DataFrame\n",
        "merged_df = pd.merge(patient_features_encoded, cohort[['subject_id', 'death_in_stay']], on='subject_id', how='left')\n"
      ],
      "metadata": {
        "id": "rUyxFHL9wi05"
      },
      "execution_count": 8,
      "outputs": []
    },
    {
      "cell_type": "markdown",
      "metadata": {
        "id": "47bf2cde"
      },
      "source": [
        "#### Train machine learning model and deep learning models."
      ]
    },
    {
      "cell_type": "markdown",
      "source": [
        "##### Logistic Regression Model"
      ],
      "metadata": {
        "id": "cwrHMDbnlQDH"
      }
    },
    {
      "cell_type": "code",
      "source": [
        "#Separate the features (X) and the target variable (y)\n",
        "X = merged_df.drop(['subject_id', 'death_in_stay'], axis=1)\n",
        "y = merged_df['death_in_stay']\n"
      ],
      "metadata": {
        "id": "ONglB6p2wkB9"
      },
      "execution_count": 9,
      "outputs": []
    },
    {
      "cell_type": "code",
      "source": [
        "# Split the data into training and testing sets\n",
        "from sklearn.model_selection import train_test_split\n",
        "\n",
        "X_train, X_test, y_train, y_test = train_test_split(X, y, test_size=0.2, random_state=42, stratify=y)"
      ],
      "metadata": {
        "id": "zKU08RIHwlka"
      },
      "execution_count": 10,
      "outputs": []
    },
    {
      "cell_type": "code",
      "metadata": {
        "colab": {
          "base_uri": "https://localhost:8080/",
          "height": 0
        },
        "id": "247b0d17",
        "outputId": "2b08019b-bfd8-4abb-edc5-6f5d59227fff"
      },
      "source": [
        "# Machine learning model\n",
        "from sklearn.linear_model import LogisticRegression\n",
        "\n",
        "log_reg_model = LogisticRegression(max_iter=1000)\n",
        "\n",
        "# Train the model\n",
        "log_reg_model.fit(X_train, y_train)"
      ],
      "execution_count": 11,
      "outputs": [
        {
          "output_type": "stream",
          "name": "stderr",
          "text": [
            "/usr/local/lib/python3.11/dist-packages/sklearn/linear_model/_logistic.py:465: ConvergenceWarning: lbfgs failed to converge (status=1):\n",
            "STOP: TOTAL NO. OF ITERATIONS REACHED LIMIT.\n",
            "\n",
            "Increase the number of iterations (max_iter) or scale the data as shown in:\n",
            "    https://scikit-learn.org/stable/modules/preprocessing.html\n",
            "Please also refer to the documentation for alternative solver options:\n",
            "    https://scikit-learn.org/stable/modules/linear_model.html#logistic-regression\n",
            "  n_iter_i = _check_optimize_result(\n"
          ]
        },
        {
          "output_type": "execute_result",
          "data": {
            "text/plain": [
              "LogisticRegression(max_iter=1000)"
            ],
            "text/html": [
              "<style>#sk-container-id-1 {\n",
              "  /* Definition of color scheme common for light and dark mode */\n",
              "  --sklearn-color-text: #000;\n",
              "  --sklearn-color-text-muted: #666;\n",
              "  --sklearn-color-line: gray;\n",
              "  /* Definition of color scheme for unfitted estimators */\n",
              "  --sklearn-color-unfitted-level-0: #fff5e6;\n",
              "  --sklearn-color-unfitted-level-1: #f6e4d2;\n",
              "  --sklearn-color-unfitted-level-2: #ffe0b3;\n",
              "  --sklearn-color-unfitted-level-3: chocolate;\n",
              "  /* Definition of color scheme for fitted estimators */\n",
              "  --sklearn-color-fitted-level-0: #f0f8ff;\n",
              "  --sklearn-color-fitted-level-1: #d4ebff;\n",
              "  --sklearn-color-fitted-level-2: #b3dbfd;\n",
              "  --sklearn-color-fitted-level-3: cornflowerblue;\n",
              "\n",
              "  /* Specific color for light theme */\n",
              "  --sklearn-color-text-on-default-background: var(--sg-text-color, var(--theme-code-foreground, var(--jp-content-font-color1, black)));\n",
              "  --sklearn-color-background: var(--sg-background-color, var(--theme-background, var(--jp-layout-color0, white)));\n",
              "  --sklearn-color-border-box: var(--sg-text-color, var(--theme-code-foreground, var(--jp-content-font-color1, black)));\n",
              "  --sklearn-color-icon: #696969;\n",
              "\n",
              "  @media (prefers-color-scheme: dark) {\n",
              "    /* Redefinition of color scheme for dark theme */\n",
              "    --sklearn-color-text-on-default-background: var(--sg-text-color, var(--theme-code-foreground, var(--jp-content-font-color1, white)));\n",
              "    --sklearn-color-background: var(--sg-background-color, var(--theme-background, var(--jp-layout-color0, #111)));\n",
              "    --sklearn-color-border-box: var(--sg-text-color, var(--theme-code-foreground, var(--jp-content-font-color1, white)));\n",
              "    --sklearn-color-icon: #878787;\n",
              "  }\n",
              "}\n",
              "\n",
              "#sk-container-id-1 {\n",
              "  color: var(--sklearn-color-text);\n",
              "}\n",
              "\n",
              "#sk-container-id-1 pre {\n",
              "  padding: 0;\n",
              "}\n",
              "\n",
              "#sk-container-id-1 input.sk-hidden--visually {\n",
              "  border: 0;\n",
              "  clip: rect(1px 1px 1px 1px);\n",
              "  clip: rect(1px, 1px, 1px, 1px);\n",
              "  height: 1px;\n",
              "  margin: -1px;\n",
              "  overflow: hidden;\n",
              "  padding: 0;\n",
              "  position: absolute;\n",
              "  width: 1px;\n",
              "}\n",
              "\n",
              "#sk-container-id-1 div.sk-dashed-wrapped {\n",
              "  border: 1px dashed var(--sklearn-color-line);\n",
              "  margin: 0 0.4em 0.5em 0.4em;\n",
              "  box-sizing: border-box;\n",
              "  padding-bottom: 0.4em;\n",
              "  background-color: var(--sklearn-color-background);\n",
              "}\n",
              "\n",
              "#sk-container-id-1 div.sk-container {\n",
              "  /* jupyter's `normalize.less` sets `[hidden] { display: none; }`\n",
              "     but bootstrap.min.css set `[hidden] { display: none !important; }`\n",
              "     so we also need the `!important` here to be able to override the\n",
              "     default hidden behavior on the sphinx rendered scikit-learn.org.\n",
              "     See: https://github.com/scikit-learn/scikit-learn/issues/21755 */\n",
              "  display: inline-block !important;\n",
              "  position: relative;\n",
              "}\n",
              "\n",
              "#sk-container-id-1 div.sk-text-repr-fallback {\n",
              "  display: none;\n",
              "}\n",
              "\n",
              "div.sk-parallel-item,\n",
              "div.sk-serial,\n",
              "div.sk-item {\n",
              "  /* draw centered vertical line to link estimators */\n",
              "  background-image: linear-gradient(var(--sklearn-color-text-on-default-background), var(--sklearn-color-text-on-default-background));\n",
              "  background-size: 2px 100%;\n",
              "  background-repeat: no-repeat;\n",
              "  background-position: center center;\n",
              "}\n",
              "\n",
              "/* Parallel-specific style estimator block */\n",
              "\n",
              "#sk-container-id-1 div.sk-parallel-item::after {\n",
              "  content: \"\";\n",
              "  width: 100%;\n",
              "  border-bottom: 2px solid var(--sklearn-color-text-on-default-background);\n",
              "  flex-grow: 1;\n",
              "}\n",
              "\n",
              "#sk-container-id-1 div.sk-parallel {\n",
              "  display: flex;\n",
              "  align-items: stretch;\n",
              "  justify-content: center;\n",
              "  background-color: var(--sklearn-color-background);\n",
              "  position: relative;\n",
              "}\n",
              "\n",
              "#sk-container-id-1 div.sk-parallel-item {\n",
              "  display: flex;\n",
              "  flex-direction: column;\n",
              "}\n",
              "\n",
              "#sk-container-id-1 div.sk-parallel-item:first-child::after {\n",
              "  align-self: flex-end;\n",
              "  width: 50%;\n",
              "}\n",
              "\n",
              "#sk-container-id-1 div.sk-parallel-item:last-child::after {\n",
              "  align-self: flex-start;\n",
              "  width: 50%;\n",
              "}\n",
              "\n",
              "#sk-container-id-1 div.sk-parallel-item:only-child::after {\n",
              "  width: 0;\n",
              "}\n",
              "\n",
              "/* Serial-specific style estimator block */\n",
              "\n",
              "#sk-container-id-1 div.sk-serial {\n",
              "  display: flex;\n",
              "  flex-direction: column;\n",
              "  align-items: center;\n",
              "  background-color: var(--sklearn-color-background);\n",
              "  padding-right: 1em;\n",
              "  padding-left: 1em;\n",
              "}\n",
              "\n",
              "\n",
              "/* Toggleable style: style used for estimator/Pipeline/ColumnTransformer box that is\n",
              "clickable and can be expanded/collapsed.\n",
              "- Pipeline and ColumnTransformer use this feature and define the default style\n",
              "- Estimators will overwrite some part of the style using the `sk-estimator` class\n",
              "*/\n",
              "\n",
              "/* Pipeline and ColumnTransformer style (default) */\n",
              "\n",
              "#sk-container-id-1 div.sk-toggleable {\n",
              "  /* Default theme specific background. It is overwritten whether we have a\n",
              "  specific estimator or a Pipeline/ColumnTransformer */\n",
              "  background-color: var(--sklearn-color-background);\n",
              "}\n",
              "\n",
              "/* Toggleable label */\n",
              "#sk-container-id-1 label.sk-toggleable__label {\n",
              "  cursor: pointer;\n",
              "  display: flex;\n",
              "  width: 100%;\n",
              "  margin-bottom: 0;\n",
              "  padding: 0.5em;\n",
              "  box-sizing: border-box;\n",
              "  text-align: center;\n",
              "  align-items: start;\n",
              "  justify-content: space-between;\n",
              "  gap: 0.5em;\n",
              "}\n",
              "\n",
              "#sk-container-id-1 label.sk-toggleable__label .caption {\n",
              "  font-size: 0.6rem;\n",
              "  font-weight: lighter;\n",
              "  color: var(--sklearn-color-text-muted);\n",
              "}\n",
              "\n",
              "#sk-container-id-1 label.sk-toggleable__label-arrow:before {\n",
              "  /* Arrow on the left of the label */\n",
              "  content: \"▸\";\n",
              "  float: left;\n",
              "  margin-right: 0.25em;\n",
              "  color: var(--sklearn-color-icon);\n",
              "}\n",
              "\n",
              "#sk-container-id-1 label.sk-toggleable__label-arrow:hover:before {\n",
              "  color: var(--sklearn-color-text);\n",
              "}\n",
              "\n",
              "/* Toggleable content - dropdown */\n",
              "\n",
              "#sk-container-id-1 div.sk-toggleable__content {\n",
              "  max-height: 0;\n",
              "  max-width: 0;\n",
              "  overflow: hidden;\n",
              "  text-align: left;\n",
              "  /* unfitted */\n",
              "  background-color: var(--sklearn-color-unfitted-level-0);\n",
              "}\n",
              "\n",
              "#sk-container-id-1 div.sk-toggleable__content.fitted {\n",
              "  /* fitted */\n",
              "  background-color: var(--sklearn-color-fitted-level-0);\n",
              "}\n",
              "\n",
              "#sk-container-id-1 div.sk-toggleable__content pre {\n",
              "  margin: 0.2em;\n",
              "  border-radius: 0.25em;\n",
              "  color: var(--sklearn-color-text);\n",
              "  /* unfitted */\n",
              "  background-color: var(--sklearn-color-unfitted-level-0);\n",
              "}\n",
              "\n",
              "#sk-container-id-1 div.sk-toggleable__content.fitted pre {\n",
              "  /* unfitted */\n",
              "  background-color: var(--sklearn-color-fitted-level-0);\n",
              "}\n",
              "\n",
              "#sk-container-id-1 input.sk-toggleable__control:checked~div.sk-toggleable__content {\n",
              "  /* Expand drop-down */\n",
              "  max-height: 200px;\n",
              "  max-width: 100%;\n",
              "  overflow: auto;\n",
              "}\n",
              "\n",
              "#sk-container-id-1 input.sk-toggleable__control:checked~label.sk-toggleable__label-arrow:before {\n",
              "  content: \"▾\";\n",
              "}\n",
              "\n",
              "/* Pipeline/ColumnTransformer-specific style */\n",
              "\n",
              "#sk-container-id-1 div.sk-label input.sk-toggleable__control:checked~label.sk-toggleable__label {\n",
              "  color: var(--sklearn-color-text);\n",
              "  background-color: var(--sklearn-color-unfitted-level-2);\n",
              "}\n",
              "\n",
              "#sk-container-id-1 div.sk-label.fitted input.sk-toggleable__control:checked~label.sk-toggleable__label {\n",
              "  background-color: var(--sklearn-color-fitted-level-2);\n",
              "}\n",
              "\n",
              "/* Estimator-specific style */\n",
              "\n",
              "/* Colorize estimator box */\n",
              "#sk-container-id-1 div.sk-estimator input.sk-toggleable__control:checked~label.sk-toggleable__label {\n",
              "  /* unfitted */\n",
              "  background-color: var(--sklearn-color-unfitted-level-2);\n",
              "}\n",
              "\n",
              "#sk-container-id-1 div.sk-estimator.fitted input.sk-toggleable__control:checked~label.sk-toggleable__label {\n",
              "  /* fitted */\n",
              "  background-color: var(--sklearn-color-fitted-level-2);\n",
              "}\n",
              "\n",
              "#sk-container-id-1 div.sk-label label.sk-toggleable__label,\n",
              "#sk-container-id-1 div.sk-label label {\n",
              "  /* The background is the default theme color */\n",
              "  color: var(--sklearn-color-text-on-default-background);\n",
              "}\n",
              "\n",
              "/* On hover, darken the color of the background */\n",
              "#sk-container-id-1 div.sk-label:hover label.sk-toggleable__label {\n",
              "  color: var(--sklearn-color-text);\n",
              "  background-color: var(--sklearn-color-unfitted-level-2);\n",
              "}\n",
              "\n",
              "/* Label box, darken color on hover, fitted */\n",
              "#sk-container-id-1 div.sk-label.fitted:hover label.sk-toggleable__label.fitted {\n",
              "  color: var(--sklearn-color-text);\n",
              "  background-color: var(--sklearn-color-fitted-level-2);\n",
              "}\n",
              "\n",
              "/* Estimator label */\n",
              "\n",
              "#sk-container-id-1 div.sk-label label {\n",
              "  font-family: monospace;\n",
              "  font-weight: bold;\n",
              "  display: inline-block;\n",
              "  line-height: 1.2em;\n",
              "}\n",
              "\n",
              "#sk-container-id-1 div.sk-label-container {\n",
              "  text-align: center;\n",
              "}\n",
              "\n",
              "/* Estimator-specific */\n",
              "#sk-container-id-1 div.sk-estimator {\n",
              "  font-family: monospace;\n",
              "  border: 1px dotted var(--sklearn-color-border-box);\n",
              "  border-radius: 0.25em;\n",
              "  box-sizing: border-box;\n",
              "  margin-bottom: 0.5em;\n",
              "  /* unfitted */\n",
              "  background-color: var(--sklearn-color-unfitted-level-0);\n",
              "}\n",
              "\n",
              "#sk-container-id-1 div.sk-estimator.fitted {\n",
              "  /* fitted */\n",
              "  background-color: var(--sklearn-color-fitted-level-0);\n",
              "}\n",
              "\n",
              "/* on hover */\n",
              "#sk-container-id-1 div.sk-estimator:hover {\n",
              "  /* unfitted */\n",
              "  background-color: var(--sklearn-color-unfitted-level-2);\n",
              "}\n",
              "\n",
              "#sk-container-id-1 div.sk-estimator.fitted:hover {\n",
              "  /* fitted */\n",
              "  background-color: var(--sklearn-color-fitted-level-2);\n",
              "}\n",
              "\n",
              "/* Specification for estimator info (e.g. \"i\" and \"?\") */\n",
              "\n",
              "/* Common style for \"i\" and \"?\" */\n",
              "\n",
              ".sk-estimator-doc-link,\n",
              "a:link.sk-estimator-doc-link,\n",
              "a:visited.sk-estimator-doc-link {\n",
              "  float: right;\n",
              "  font-size: smaller;\n",
              "  line-height: 1em;\n",
              "  font-family: monospace;\n",
              "  background-color: var(--sklearn-color-background);\n",
              "  border-radius: 1em;\n",
              "  height: 1em;\n",
              "  width: 1em;\n",
              "  text-decoration: none !important;\n",
              "  margin-left: 0.5em;\n",
              "  text-align: center;\n",
              "  /* unfitted */\n",
              "  border: var(--sklearn-color-unfitted-level-1) 1pt solid;\n",
              "  color: var(--sklearn-color-unfitted-level-1);\n",
              "}\n",
              "\n",
              ".sk-estimator-doc-link.fitted,\n",
              "a:link.sk-estimator-doc-link.fitted,\n",
              "a:visited.sk-estimator-doc-link.fitted {\n",
              "  /* fitted */\n",
              "  border: var(--sklearn-color-fitted-level-1) 1pt solid;\n",
              "  color: var(--sklearn-color-fitted-level-1);\n",
              "}\n",
              "\n",
              "/* On hover */\n",
              "div.sk-estimator:hover .sk-estimator-doc-link:hover,\n",
              ".sk-estimator-doc-link:hover,\n",
              "div.sk-label-container:hover .sk-estimator-doc-link:hover,\n",
              ".sk-estimator-doc-link:hover {\n",
              "  /* unfitted */\n",
              "  background-color: var(--sklearn-color-unfitted-level-3);\n",
              "  color: var(--sklearn-color-background);\n",
              "  text-decoration: none;\n",
              "}\n",
              "\n",
              "div.sk-estimator.fitted:hover .sk-estimator-doc-link.fitted:hover,\n",
              ".sk-estimator-doc-link.fitted:hover,\n",
              "div.sk-label-container:hover .sk-estimator-doc-link.fitted:hover,\n",
              ".sk-estimator-doc-link.fitted:hover {\n",
              "  /* fitted */\n",
              "  background-color: var(--sklearn-color-fitted-level-3);\n",
              "  color: var(--sklearn-color-background);\n",
              "  text-decoration: none;\n",
              "}\n",
              "\n",
              "/* Span, style for the box shown on hovering the info icon */\n",
              ".sk-estimator-doc-link span {\n",
              "  display: none;\n",
              "  z-index: 9999;\n",
              "  position: relative;\n",
              "  font-weight: normal;\n",
              "  right: .2ex;\n",
              "  padding: .5ex;\n",
              "  margin: .5ex;\n",
              "  width: min-content;\n",
              "  min-width: 20ex;\n",
              "  max-width: 50ex;\n",
              "  color: var(--sklearn-color-text);\n",
              "  box-shadow: 2pt 2pt 4pt #999;\n",
              "  /* unfitted */\n",
              "  background: var(--sklearn-color-unfitted-level-0);\n",
              "  border: .5pt solid var(--sklearn-color-unfitted-level-3);\n",
              "}\n",
              "\n",
              ".sk-estimator-doc-link.fitted span {\n",
              "  /* fitted */\n",
              "  background: var(--sklearn-color-fitted-level-0);\n",
              "  border: var(--sklearn-color-fitted-level-3);\n",
              "}\n",
              "\n",
              ".sk-estimator-doc-link:hover span {\n",
              "  display: block;\n",
              "}\n",
              "\n",
              "/* \"?\"-specific style due to the `<a>` HTML tag */\n",
              "\n",
              "#sk-container-id-1 a.estimator_doc_link {\n",
              "  float: right;\n",
              "  font-size: 1rem;\n",
              "  line-height: 1em;\n",
              "  font-family: monospace;\n",
              "  background-color: var(--sklearn-color-background);\n",
              "  border-radius: 1rem;\n",
              "  height: 1rem;\n",
              "  width: 1rem;\n",
              "  text-decoration: none;\n",
              "  /* unfitted */\n",
              "  color: var(--sklearn-color-unfitted-level-1);\n",
              "  border: var(--sklearn-color-unfitted-level-1) 1pt solid;\n",
              "}\n",
              "\n",
              "#sk-container-id-1 a.estimator_doc_link.fitted {\n",
              "  /* fitted */\n",
              "  border: var(--sklearn-color-fitted-level-1) 1pt solid;\n",
              "  color: var(--sklearn-color-fitted-level-1);\n",
              "}\n",
              "\n",
              "/* On hover */\n",
              "#sk-container-id-1 a.estimator_doc_link:hover {\n",
              "  /* unfitted */\n",
              "  background-color: var(--sklearn-color-unfitted-level-3);\n",
              "  color: var(--sklearn-color-background);\n",
              "  text-decoration: none;\n",
              "}\n",
              "\n",
              "#sk-container-id-1 a.estimator_doc_link.fitted:hover {\n",
              "  /* fitted */\n",
              "  background-color: var(--sklearn-color-fitted-level-3);\n",
              "}\n",
              "</style><div id=\"sk-container-id-1\" class=\"sk-top-container\"><div class=\"sk-text-repr-fallback\"><pre>LogisticRegression(max_iter=1000)</pre><b>In a Jupyter environment, please rerun this cell to show the HTML representation or trust the notebook. <br />On GitHub, the HTML representation is unable to render, please try loading this page with nbviewer.org.</b></div><div class=\"sk-container\" hidden><div class=\"sk-item\"><div class=\"sk-estimator fitted sk-toggleable\"><input class=\"sk-toggleable__control sk-hidden--visually\" id=\"sk-estimator-id-1\" type=\"checkbox\" checked><label for=\"sk-estimator-id-1\" class=\"sk-toggleable__label fitted sk-toggleable__label-arrow\"><div><div>LogisticRegression</div></div><div><a class=\"sk-estimator-doc-link fitted\" rel=\"noreferrer\" target=\"_blank\" href=\"https://scikit-learn.org/1.6/modules/generated/sklearn.linear_model.LogisticRegression.html\">?<span>Documentation for LogisticRegression</span></a><span class=\"sk-estimator-doc-link fitted\">i<span>Fitted</span></span></div></label><div class=\"sk-toggleable__content fitted\"><pre>LogisticRegression(max_iter=1000)</pre></div> </div></div></div></div>"
            ]
          },
          "metadata": {},
          "execution_count": 11
        }
      ]
    },
    {
      "cell_type": "markdown",
      "source": [
        "##### Multilayer Perceptron Model"
      ],
      "metadata": {
        "id": "FP79o4delVjR"
      }
    },
    {
      "cell_type": "code",
      "source": [
        "!pip install tensorflow"
      ],
      "metadata": {
        "colab": {
          "base_uri": "https://localhost:8080/"
        },
        "collapsed": true,
        "id": "qTOJSaoPzFXi",
        "outputId": "ebf1e5ee-1e61-4b3b-8f41-0d51e5853024"
      },
      "execution_count": 12,
      "outputs": [
        {
          "output_type": "stream",
          "name": "stdout",
          "text": [
            "Requirement already satisfied: tensorflow in /usr/local/lib/python3.11/dist-packages (2.18.0)\n",
            "Requirement already satisfied: absl-py>=1.0.0 in /usr/local/lib/python3.11/dist-packages (from tensorflow) (1.4.0)\n",
            "Requirement already satisfied: astunparse>=1.6.0 in /usr/local/lib/python3.11/dist-packages (from tensorflow) (1.6.3)\n",
            "Requirement already satisfied: flatbuffers>=24.3.25 in /usr/local/lib/python3.11/dist-packages (from tensorflow) (25.2.10)\n",
            "Requirement already satisfied: gast!=0.5.0,!=0.5.1,!=0.5.2,>=0.2.1 in /usr/local/lib/python3.11/dist-packages (from tensorflow) (0.6.0)\n",
            "Requirement already satisfied: google-pasta>=0.1.1 in /usr/local/lib/python3.11/dist-packages (from tensorflow) (0.2.0)\n",
            "Requirement already satisfied: libclang>=13.0.0 in /usr/local/lib/python3.11/dist-packages (from tensorflow) (18.1.1)\n",
            "Requirement already satisfied: opt-einsum>=2.3.2 in /usr/local/lib/python3.11/dist-packages (from tensorflow) (3.4.0)\n",
            "Requirement already satisfied: packaging in /usr/local/lib/python3.11/dist-packages (from tensorflow) (24.2)\n",
            "Requirement already satisfied: protobuf!=4.21.0,!=4.21.1,!=4.21.2,!=4.21.3,!=4.21.4,!=4.21.5,<6.0.0dev,>=3.20.3 in /usr/local/lib/python3.11/dist-packages (from tensorflow) (5.29.5)\n",
            "Requirement already satisfied: requests<3,>=2.21.0 in /usr/local/lib/python3.11/dist-packages (from tensorflow) (2.32.3)\n",
            "Requirement already satisfied: setuptools in /usr/local/lib/python3.11/dist-packages (from tensorflow) (75.2.0)\n",
            "Requirement already satisfied: six>=1.12.0 in /usr/local/lib/python3.11/dist-packages (from tensorflow) (1.17.0)\n",
            "Requirement already satisfied: termcolor>=1.1.0 in /usr/local/lib/python3.11/dist-packages (from tensorflow) (3.1.0)\n",
            "Requirement already satisfied: typing-extensions>=3.6.6 in /usr/local/lib/python3.11/dist-packages (from tensorflow) (4.14.0)\n",
            "Requirement already satisfied: wrapt>=1.11.0 in /usr/local/lib/python3.11/dist-packages (from tensorflow) (1.17.2)\n",
            "Requirement already satisfied: grpcio<2.0,>=1.24.3 in /usr/local/lib/python3.11/dist-packages (from tensorflow) (1.73.0)\n",
            "Requirement already satisfied: tensorboard<2.19,>=2.18 in /usr/local/lib/python3.11/dist-packages (from tensorflow) (2.18.0)\n",
            "Requirement already satisfied: keras>=3.5.0 in /usr/local/lib/python3.11/dist-packages (from tensorflow) (3.8.0)\n",
            "Requirement already satisfied: numpy<2.1.0,>=1.26.0 in /usr/local/lib/python3.11/dist-packages (from tensorflow) (2.0.2)\n",
            "Requirement already satisfied: h5py>=3.11.0 in /usr/local/lib/python3.11/dist-packages (from tensorflow) (3.14.0)\n",
            "Requirement already satisfied: ml-dtypes<0.5.0,>=0.4.0 in /usr/local/lib/python3.11/dist-packages (from tensorflow) (0.4.1)\n",
            "Requirement already satisfied: tensorflow-io-gcs-filesystem>=0.23.1 in /usr/local/lib/python3.11/dist-packages (from tensorflow) (0.37.1)\n",
            "Requirement already satisfied: wheel<1.0,>=0.23.0 in /usr/local/lib/python3.11/dist-packages (from astunparse>=1.6.0->tensorflow) (0.45.1)\n",
            "Requirement already satisfied: rich in /usr/local/lib/python3.11/dist-packages (from keras>=3.5.0->tensorflow) (13.9.4)\n",
            "Requirement already satisfied: namex in /usr/local/lib/python3.11/dist-packages (from keras>=3.5.0->tensorflow) (0.1.0)\n",
            "Requirement already satisfied: optree in /usr/local/lib/python3.11/dist-packages (from keras>=3.5.0->tensorflow) (0.16.0)\n",
            "Requirement already satisfied: charset-normalizer<4,>=2 in /usr/local/lib/python3.11/dist-packages (from requests<3,>=2.21.0->tensorflow) (3.4.2)\n",
            "Requirement already satisfied: idna<4,>=2.5 in /usr/local/lib/python3.11/dist-packages (from requests<3,>=2.21.0->tensorflow) (3.10)\n",
            "Requirement already satisfied: urllib3<3,>=1.21.1 in /usr/local/lib/python3.11/dist-packages (from requests<3,>=2.21.0->tensorflow) (2.4.0)\n",
            "Requirement already satisfied: certifi>=2017.4.17 in /usr/local/lib/python3.11/dist-packages (from requests<3,>=2.21.0->tensorflow) (2025.6.15)\n",
            "Requirement already satisfied: markdown>=2.6.8 in /usr/local/lib/python3.11/dist-packages (from tensorboard<2.19,>=2.18->tensorflow) (3.8.2)\n",
            "Requirement already satisfied: tensorboard-data-server<0.8.0,>=0.7.0 in /usr/local/lib/python3.11/dist-packages (from tensorboard<2.19,>=2.18->tensorflow) (0.7.2)\n",
            "Requirement already satisfied: werkzeug>=1.0.1 in /usr/local/lib/python3.11/dist-packages (from tensorboard<2.19,>=2.18->tensorflow) (3.1.3)\n",
            "Requirement already satisfied: MarkupSafe>=2.1.1 in /usr/local/lib/python3.11/dist-packages (from werkzeug>=1.0.1->tensorboard<2.19,>=2.18->tensorflow) (3.0.2)\n",
            "Requirement already satisfied: markdown-it-py>=2.2.0 in /usr/local/lib/python3.11/dist-packages (from rich->keras>=3.5.0->tensorflow) (3.0.0)\n",
            "Requirement already satisfied: pygments<3.0.0,>=2.13.0 in /usr/local/lib/python3.11/dist-packages (from rich->keras>=3.5.0->tensorflow) (2.19.2)\n",
            "Requirement already satisfied: mdurl~=0.1 in /usr/local/lib/python3.11/dist-packages (from markdown-it-py>=2.2.0->rich->keras>=3.5.0->tensorflow) (0.1.2)\n"
          ]
        }
      ]
    },
    {
      "cell_type": "code",
      "metadata": {
        "colab": {
          "base_uri": "https://localhost:8080/"
        },
        "id": "9fe13dd3",
        "outputId": "2f7ea302-02f8-460f-8f0c-74c4d81f4148"
      },
      "source": [
        "import tensorflow as tf\n",
        "from tensorflow.keras.models import Sequential\n",
        "from tensorflow.keras.layers import Dense\n",
        "from tensorflow.keras.optimizers import Adam\n",
        "\n",
        "\n",
        "mlp_model = Sequential()\n",
        "mlp_model.add(Dense(128, activation='relu', input_shape=(X_train.shape[1],)))\n",
        "mlp_model.add(Dense(64, activation='relu'))\n",
        "mlp_model.add(Dense(1, activation='sigmoid'))\n",
        "\n",
        "\n",
        "mlp_model.compile(optimizer=Adam(learning_rate=0.001),\n",
        "                  loss='binary_crossentropy',\n",
        "                  metrics=['accuracy'])\n",
        "\n",
        "y_train_encoded = y_train.apply(lambda x: 1 if x == 'died' else 0)\n",
        "y_test_encoded = y_test.apply(lambda x: 1 if x == 'died' else 0)\n",
        "\n",
        "history = mlp_model.fit(X_train, y_train_encoded,\n",
        "                        epochs=10,\n",
        "                        batch_size=32,\n",
        "                        validation_data=(X_test, y_test_encoded))"
      ],
      "execution_count": 13,
      "outputs": [
        {
          "output_type": "stream",
          "name": "stderr",
          "text": [
            "/usr/local/lib/python3.11/dist-packages/keras/src/layers/core/dense.py:87: UserWarning: Do not pass an `input_shape`/`input_dim` argument to a layer. When using Sequential models, prefer using an `Input(shape)` object as the first layer in the model instead.\n",
            "  super().__init__(activity_regularizer=activity_regularizer, **kwargs)\n"
          ]
        },
        {
          "output_type": "stream",
          "name": "stdout",
          "text": [
            "Epoch 1/10\n",
            "\u001b[1m87/87\u001b[0m \u001b[32m━━━━━━━━━━━━━━━━━━━━\u001b[0m\u001b[37m\u001b[0m \u001b[1m6s\u001b[0m 24ms/step - accuracy: 0.6646 - loss: 131.0609 - val_accuracy: 0.8177 - val_loss: 16.1296\n",
            "Epoch 2/10\n",
            "\u001b[1m87/87\u001b[0m \u001b[32m━━━━━━━━━━━━━━━━━━━━\u001b[0m\u001b[37m\u001b[0m \u001b[1m2s\u001b[0m 16ms/step - accuracy: 0.7433 - loss: 9.3503 - val_accuracy: 0.8234 - val_loss: 2.4040\n",
            "Epoch 3/10\n",
            "\u001b[1m87/87\u001b[0m \u001b[32m━━━━━━━━━━━━━━━━━━━━\u001b[0m\u001b[37m\u001b[0m \u001b[1m2s\u001b[0m 18ms/step - accuracy: 0.7568 - loss: 5.5813 - val_accuracy: 0.8148 - val_loss: 1.0877\n",
            "Epoch 4/10\n",
            "\u001b[1m87/87\u001b[0m \u001b[32m━━━━━━━━━━━━━━━━━━━━\u001b[0m\u001b[37m\u001b[0m \u001b[1m2s\u001b[0m 23ms/step - accuracy: 0.7586 - loss: 7.1256 - val_accuracy: 0.8205 - val_loss: 2.0490\n",
            "Epoch 5/10\n",
            "\u001b[1m87/87\u001b[0m \u001b[32m━━━━━━━━━━━━━━━━━━━━\u001b[0m\u001b[37m\u001b[0m \u001b[1m2s\u001b[0m 24ms/step - accuracy: 0.7394 - loss: 7.9771 - val_accuracy: 0.4935 - val_loss: 6.7572\n",
            "Epoch 6/10\n",
            "\u001b[1m87/87\u001b[0m \u001b[32m━━━━━━━━━━━━━━━━━━━━\u001b[0m\u001b[37m\u001b[0m \u001b[1m2s\u001b[0m 19ms/step - accuracy: 0.7836 - loss: 4.7957 - val_accuracy: 0.8162 - val_loss: 6.0084\n",
            "Epoch 7/10\n",
            "\u001b[1m87/87\u001b[0m \u001b[32m━━━━━━━━━━━━━━━━━━━━\u001b[0m\u001b[37m\u001b[0m \u001b[1m1s\u001b[0m 8ms/step - accuracy: 0.7852 - loss: 6.2845 - val_accuracy: 0.8148 - val_loss: 1.9465\n",
            "Epoch 8/10\n",
            "\u001b[1m87/87\u001b[0m \u001b[32m━━━━━━━━━━━━━━━━━━━━\u001b[0m\u001b[37m\u001b[0m \u001b[1m1s\u001b[0m 9ms/step - accuracy: 0.8127 - loss: 3.0526 - val_accuracy: 0.8234 - val_loss: 2.2216\n",
            "Epoch 9/10\n",
            "\u001b[1m87/87\u001b[0m \u001b[32m━━━━━━━━━━━━━━━━━━━━\u001b[0m\u001b[37m\u001b[0m \u001b[1m1s\u001b[0m 7ms/step - accuracy: 0.7932 - loss: 3.2793 - val_accuracy: 0.8177 - val_loss: 11.2150\n",
            "Epoch 10/10\n",
            "\u001b[1m87/87\u001b[0m \u001b[32m━━━━━━━━━━━━━━━━━━━━\u001b[0m\u001b[37m\u001b[0m \u001b[1m1s\u001b[0m 8ms/step - accuracy: 0.7866 - loss: 4.4589 - val_accuracy: 0.6469 - val_loss: 3.4696\n"
          ]
        }
      ]
    },
    {
      "cell_type": "markdown",
      "metadata": {
        "id": "2700a8ba"
      },
      "source": [
        "#### Evaluate performance of models.\n"
      ]
    },
    {
      "cell_type": "code",
      "metadata": {
        "colab": {
          "base_uri": "https://localhost:8080/"
        },
        "id": "5e352830",
        "outputId": "0fa030d8-5f44-4c32-9661-64df140ec52c"
      },
      "source": [
        "from sklearn.metrics import accuracy_score, precision_score, recall_score, f1_score\n",
        "\n",
        "log_reg_pred = log_reg_model.predict(X_test)\n",
        "\n",
        "log_reg_accuracy = accuracy_score(y_test, log_reg_pred)\n",
        "log_reg_precision = precision_score(y_test, log_reg_pred, pos_label='died')\n",
        "log_reg_recall = recall_score(y_test, log_reg_pred, pos_label='died')\n",
        "log_reg_f1 = f1_score(y_test, log_reg_pred, pos_label='died')\n",
        "\n",
        "print(\"Logistic Regression Model Performance:\")\n",
        "print(f\"Accuracy: {log_reg_accuracy:.4f}\")\n",
        "print(f\"Precision: {log_reg_precision:.4f}\")\n",
        "print(f\"Recall: {log_reg_recall:.4f}\")\n",
        "print(f\"F1-score: {log_reg_f1:.4f}\")\n",
        "\n",
        "\n",
        "mlp_pred_prob = mlp_model.predict(X_test)\n",
        "mlp_pred_binary = (mlp_pred_prob > 0.5).astype(int)\n",
        "\n",
        "mlp_accuracy = accuracy_score(y_test_encoded, mlp_pred_binary)\n",
        "mlp_precision = precision_score(y_test_encoded, mlp_pred_binary)\n",
        "mlp_recall = recall_score(y_test_encoded, mlp_pred_binary)\n",
        "mlp_f1 = f1_score(y_test_encoded, mlp_pred_binary)\n",
        "\n",
        "print(\"\\nDeep Learning Model Performance:\")\n",
        "print(f\"Accuracy: {mlp_accuracy:.4f}\")\n",
        "print(f\"Precision: {mlp_precision:.4f}\")\n",
        "print(f\"Recall: {mlp_recall:.4f}\")\n",
        "print(f\"F1-score: {mlp_f1:.4f}\")"
      ],
      "execution_count": 14,
      "outputs": [
        {
          "output_type": "stream",
          "name": "stdout",
          "text": [
            "Logistic Regression Model Performance:\n",
            "Accuracy: 0.8307\n",
            "Precision: 0.5818\n",
            "Recall: 0.2540\n",
            "F1-score: 0.3536\n",
            "\u001b[1m22/22\u001b[0m \u001b[32m━━━━━━━━━━━━━━━━━━━━\u001b[0m\u001b[37m\u001b[0m \u001b[1m0s\u001b[0m 7ms/step\n",
            "\n",
            "Deep Learning Model Performance:\n",
            "Accuracy: 0.6469\n",
            "Precision: 0.3275\n",
            "Recall: 0.8889\n",
            "F1-score: 0.4786\n"
          ]
        }
      ]
    },
    {
      "cell_type": "markdown",
      "metadata": {
        "id": "f5d8a6cb"
      },
      "source": [
        "#### Visualize results\n",
        "\n"
      ]
    },
    {
      "cell_type": "code",
      "metadata": {
        "colab": {
          "base_uri": "https://localhost:8080/",
          "height": 927
        },
        "id": "6c66db8a",
        "outputId": "c066b86b-63e6-4204-f724-77da39be90c2"
      },
      "source": [
        "from sklearn.metrics import confusion_matrix, ConfusionMatrixDisplay\n",
        "\n",
        "# Compute and plot confusion matrix for Logistic Regression\n",
        "log_reg_cm = confusion_matrix(y_test, log_reg_pred, labels=['survived', 'died'])\n",
        "log_reg_disp = ConfusionMatrixDisplay(confusion_matrix=log_reg_cm, display_labels=['survived', 'died'])\n",
        "log_reg_disp.plot()\n",
        "plt.title(\"Logistic Regression Confusion Matrix\")\n",
        "plt.show()\n",
        "\n",
        "# Compute and plot confusion matrix for MLP\n",
        "mlp_cm = confusion_matrix(y_test_encoded, mlp_pred_binary, labels=[0, 1])\n",
        "mlp_disp = ConfusionMatrixDisplay(confusion_matrix=mlp_cm, display_labels=['survived', 'died'])\n",
        "mlp_disp.plot()\n",
        "plt.title(\"Deep Learning Confusion Matrix\")\n",
        "plt.show()"
      ],
      "execution_count": 15,
      "outputs": [
        {
          "output_type": "display_data",
          "data": {
            "text/plain": [
              "<Figure size 640x480 with 2 Axes>"
            ],
            "image/png": "[encoded data removed]"
          },
          "metadata": {}
        },
        {
          "output_type": "display_data",
          "data": {
            "text/plain": [
              "<Figure size 640x480 with 2 Axes>"
            ],
            "image/png": "[encoded data removed]"
          },
          "metadata": {}
        }
      ]
    },
    {
      "cell_type": "markdown",
      "source": [
        "#### Explanation methods and results"
      ],
      "metadata": {
        "id": "6JtC7_5Nu_Wv"
      }
    },
    {
      "cell_type": "markdown",
      "source": [
        "**1. Data Loading and Initial Inspection:** Before analysis or modelling, it is possible to understand the data's columns, format, and possible problems by loading and inspecting the data.\n",
        "\n",
        "**2. Data Preparation and Preprocessing:**\n",
        "- **Handling Missing Values:** First looked for missing values in the patient_features DataFrame then imputed the missing numerical values using the mean of their corresponding columns, if dataset had missing values.\n",
        "- **Encoding Categorical Features:** Categorical features were one-hot encoded using pd.get_dummies to convert them into a numerical format suitable for machine learning models.\n",
        "- **Data Merging:** To include the target variable (death_in_stay) in the main DataFrame, the encoded patient features were merged with the cohort DataFrame using subject_id.\n",
        "- **Feature-Target Split:** The merged DataFrame was split into features (X) and the target variable (y) and the.  subject_id and the original death_in_stay columns were dropped from the features.\n",
        "- **Train-Test Split:** The data was split into training and testing sets using train_test_split with a test_size of 0.2 (20% for testing) and random_state=42 for reproducibility. stratify=y was used to ensure that the proportion of the target variable (death_in_stay) is the same in both the training and testing sets.\n",
        "**Reasoning:* Preparing the data for machine learning models requires data preparation.  Managing missing values guarantees error-free data processing by the models.  Categorical features are transformed into a numerical format that is understandable by the majority of algorithms by encoding.  To assess the model's performance on unknown data and avoid overfitting, the data must be divided into training and testing sets.\n",
        "\n",
        "**3. Model Training:**\n",
        "- **Logistic Regression:** The X_trainand y_train data were used to create and train a Logistic Regression model.  To give the model additional time to converge, max_iter=1000 was specified.\n",
        "- **Deep Learning Model (MLP):** TensorFlow/Keras was used to build a basic feedforward neural network (MLP).  It was composed of an output layer with sigmoid activation for binary classification and two dense layers with ReLU activation.  Binary cross-entropy loss and the Adam optimizer were used to compile the model.  Prior to deep learning model training, the target variable {y` was encoded into numerical labels (0 and 1).  The encoded training data was then used to train the model.\n",
        "**Reasoning:* To compare the performance of two distinct model types on this prediction task, a deep learning model (MLP) and a conventional machine learning model (Logistic Regression) were used.  A deep learning model can identify more intricate non-linear associations in the data, whereas logistic regression is a straightforward yet effective linear model.\n",
        "\n",
        "**4. Model Evaluation:**\n",
        "- The trained models were used to make predictions on the test set (X_test).\n",
        "- The performance of both models was evaluated using several metrics: accuracy, precision, recall, and F1-score. These metrics provide a comprehensive view of the models' performance, especially for imbalanced datasets.\n",
        "- Confusion matrices were generated and plotted for both models to visually represent their performance, showing the number of true positives, true negatives, false positives, and false negatives.\n",
        "**Reasoning:* To evaluate the models' capacity for generalization, a different test set must be used.  A more comprehensive view of the models' advantages and disadvantages can be obtained by utilizing a variety of evaluation measures.  A visual breakdown of the prediction results is provided by confusion matrices, which can be useful in identifying areas in which the models are failing.\n",
        "\n",
        "**Summary of Findings:**\n",
        "\n",
        "Key trade-offs between the Deep Learning (DL) and Logistic Regression (LR) models for inpatient mortality prediction are shown by the performance measures.  The LR model produces fewer false positive predictions (i.e., wrongly labelling survivors as deceased) due to its better accuracy (0.8307 vs. 0.6469) and precision (0.5818 vs. 0.3275).  Because of this, LR is more suited for therapeutic decisions that need a high degree of confidence in positive predictions, such allocating resources to high-risk patients or avoiding needless procedures.  However, if the dataset is unbalanced (e.g., few deaths), accuracy should be taken with caution.  Bias towards the majority class (survivors) may be a contributing factor in LR's high accuracy.\n",
        "\n",
        "The DL model, on the other hand, has superior recall (0.8889 vs. 0.2540), capturing almost all cases of actual mortality while reducing false negatives.  Because of this, DL is superior in situations when it is far riskier to miss a true positive (such as failing to predict death) than to occasionally raise false alarms. Although only 25.1% of the \"death\" predictions made by the DL model are accurate due to its low precision, this trade-off might be acceptable in triage systems where missed deaths, or false negatives, are morally or legally unacceptable, even if it means more false alerts (e.g., sepsis detection or critical care early-warning systems).\n",
        "\n",
        "The choice between models ultimately depends on the clinical priority: DL for sensitivity (ensuring no at-risk patient is overlooked) or LR for specificity (reducing false alarms), even though the DL model has a slightly higher F1-score (0.4786 vs. 0.3536), reflecting a better balance between precision and recall.\n",
        "\n",
        "**Futher improvement:**\n",
        "\n",
        "Based on the existing implementation, the results indicate that the Logistic Regression model is a better option for this purpose.  To enhance the deep learning model's performance, additional effort might entail adjusting the hyperparameters for both models, investigating various deep learning architectures, and possibly adding more feature engineering.\n"
      ],
      "metadata": {
        "id": "ZSoewFMmxR5N"
      }
    }
  ]
}